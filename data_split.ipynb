{
 "cells": [
  {
   "cell_type": "code",
   "execution_count": null,
   "id": "16fb73cb",
   "metadata": {},
   "outputs": [],
   "source": [
    "%%bash\n",
    "git config user.email \"gar13177@uvg.edu.gt\"\n",
    "git config user.name \"Kevin Garcia\"\n",
    "git add .\n",
    "git commit -m \"test commit from jupyter\"\n",
    "git push"
   ]
  }
 ],
 "metadata": {
  "kernelspec": {
   "display_name": "Python 3",
   "language": "python",
   "name": "python3"
  },
  "language_info": {
   "codemirror_mode": {
    "name": "ipython",
    "version": 3
   },
   "file_extension": ".py",
   "mimetype": "text/x-python",
   "name": "python",
   "nbconvert_exporter": "python",
   "pygments_lexer": "ipython3",
   "version": "3.6.8"
  }
 },
 "nbformat": 4,
 "nbformat_minor": 5
}
