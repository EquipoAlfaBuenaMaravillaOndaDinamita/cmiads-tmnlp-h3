{
 "cells": [
  {
   "cell_type": "code",
   "execution_count": 7,
   "id": "174aa60c",
   "metadata": {},
   "outputs": [
    {
     "name": "stdout",
     "output_type": "stream",
     "text": [
      "[master f3b3ab1] model ready to test different configurations\n",
      " 3 files changed, 504 insertions(+), 83 deletions(-)\n"
     ]
    },
    {
     "name": "stderr",
     "output_type": "stream",
     "text": [
      "To https://github.com/EquipoAlfaBuenaMaravillaOndaDinamita/cmiads-tmnlp-h3\n",
      "   8c2aa21..f3b3ab1  master -> master\n"
     ]
    }
   ],
   "source": [
    "%%bash\n",
    "git config user.email \"gar13177@uvg.edu.gt\"\n",
    "git config user.name \"Kevin Garcia\"\n",
    "git add .\n",
    "git commit -m \"csvs removed\"\n",
    "git push"
   ]
  },
  {
   "cell_type": "code",
   "execution_count": 2,
   "id": "f7298301",
   "metadata": {},
   "outputs": [
    {
     "name": "stdout",
     "output_type": "stream",
     "text": [
      "[master 3f03a89] primer listado de modelos a entrenar\n",
      " 2 files changed, 346 insertions(+), 89 deletions(-)\n"
     ]
    },
    {
     "name": "stderr",
     "output_type": "stream",
     "text": [
      "To https://github.com/EquipoAlfaBuenaMaravillaOndaDinamita/cmiads-tmnlp-h3\n",
      "   4e296a6..3f03a89  master -> master\n"
     ]
    }
   ],
   "source": [
    "%%bash\n",
    "git config user.email \"martinlguzmanc@gmail.com\"\n",
    "git config user.name \"Martin Guzman\"\n",
    "git add .\n",
    "git commit -m \"primer listado de modelos a entrenar\"\n",
    "git push"
   ]
  },
  {
   "cell_type": "code",
   "execution_count": null,
   "id": "d3b960ca",
   "metadata": {},
   "outputs": [],
   "source": []
  }
 ],
 "metadata": {
  "kernelspec": {
   "display_name": "Python 3",
   "language": "python",
   "name": "python3"
  },
  "language_info": {
   "codemirror_mode": {
    "name": "ipython",
    "version": 3
   },
   "file_extension": ".py",
   "mimetype": "text/x-python",
   "name": "python",
   "nbconvert_exporter": "python",
   "pygments_lexer": "ipython3",
   "version": "3.6.8"
  }
 },
 "nbformat": 4,
 "nbformat_minor": 5
}
