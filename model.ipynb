{
 "cells": [
  {
   "cell_type": "code",
   "execution_count": 216,
   "id": "7d1fb2b9",
   "metadata": {},
   "outputs": [
    {
     "name": "stderr",
     "output_type": "stream",
     "text": [
      "[nltk_data] Downloading package stopwords to\n",
      "[nltk_data]     /data/home/kegarcia/nltk_data...\n",
      "[nltk_data]   Package stopwords is already up-to-date!\n"
     ]
    }
   ],
   "source": [
    "import nltk, enum, spacy\n",
    "import pandas as pd\n",
    "import numpy as np\n",
    "nltk.download('stopwords')\n",
    "\n",
    "from gensim.utils import simple_preprocess\n",
    "from gensim.models.phrases import Phraser\n",
    "from gensim.corpora import Dictionary\n",
    "from nltk.corpus import stopwords\n",
    "from spacy.lang.en import English"
   ]
  },
  {
   "cell_type": "code",
   "execution_count": 217,
   "id": "327878f9",
   "metadata": {},
   "outputs": [],
   "source": [
    "STOPWORDS = set(stopwords.words('english'))\n",
    "nlp = spacy.load('en_core_web_trf')\n",
    "class Sentiments(enum.Enum):\n",
    "    POS = 'POS'\n",
    "    NEG = 'NEG'"
   ]
  },
  {
   "cell_type": "code",
   "execution_count": null,
   "id": "30fab995",
   "metadata": {},
   "outputs": [],
   "source": [
    "class Operations: \n",
    "    def sentence_to_words(self, sentence):\n",
    "        return simple_preprocess(sentence, deacc=True)\n",
    "    \n",
    "    def remove_stopwords(self, words, stopwords):\n",
    "        return [word for word in words if word not in stopwords]\n",
    "    \n",
    "    \n",
    "        "
   ]
  },
  {
   "cell_type": "code",
   "execution_count": 209,
   "id": "b1076bf7",
   "metadata": {},
   "outputs": [],
   "source": [
    "class Model:\n",
    "    # not necesarry but just as a 'fyi'\n",
    "    raw_data = pd.DataFrame() # constructor\n",
    "    data_classes = {\n",
    "        'POS': {\n",
    "            'sentences': [] # array of strings\n",
    "            , 'words': [] # array of arrays, each array contains each sentence splitted\n",
    "            , 'words_without_stopwords': [] # same as words but without stopwords\n",
    "            , 'words_1d': [] # 1d array of words\n",
    "            , 'lemma': []\n",
    "            , 'bow': None\n",
    "            , 'bigram': None\n",
    "        }\n",
    "        , 'NEG': {}\n",
    "    }\n",
    "    stopwords = STOPWORDS # default if not given\n",
    "    allowed_postags = ['NOUN', 'ADJ', 'VERB', 'ADV']\n",
    "    \n",
    "    def __init__(self, df, stopwords=STOPWORDS):\n",
    "        # pandas dataframe?\n",
    "        self.stopwords = stopwords\n",
    "        self.raw_data = df\n",
    "        data_classes = {sentiment.value: {'sentences': df[df['sentiment'] == sentiment.value]['review'].values.tolist()} for sentiment in Sentiments}\n",
    "        self.data_classes = data_classes\n",
    "\n",
    "    def sentences_to_words(self):\n",
    "        for sentiment in self.data_classes.keys():\n",
    "            words = []\n",
    "            for sentence in self.data_classes[sentiment]['sentences']:\n",
    "                words.append(simple_preprocess(sentence, deacc=True))\n",
    "            self.data_classes[sentiment]['words'] = words\n",
    "        \n",
    "    def remove_stopwords(self):\n",
    "        for sentiment in self.data_classes.keys():\n",
    "            words = []\n",
    "            for sentence_as_words in self.data_classes[sentiment]['words']:\n",
    "                words.append([word for word in sentence_as_words if word not in self.stopwords])\n",
    "            self.data_classes[sentiment]['words_without_stopwords'] = words\n",
    "            \n",
    "    def lemmatization(self):\n",
    "        for sentiment in self.data_classes.keys():\n",
    "            words = []\n",
    "            for sentence_as_words in self.data_classes[sentiment]['words']:\n",
    "                doc = nlp(' '.join(sentence_as_words))\n",
    "                words.append([token.lemma_ for token in doc if token.pos_ in self.allowed_postags])\n",
    "            self.data_classes[sentiment]['lemma'] = words\n",
    "            \n",
    "    def learn_bigrams(self, documents):\n",
    "        bigram = Phrases(documents, min_count=5, threshold=10)\n",
    "        bigram_mod = Phraser(bigram)\n",
    "        return bigram_mod\n",
    "    \n",
    "    def create_bigrams(self, documents):\n",
    "        \n",
    "            \n",
    "    def create_dictionary(self):\n",
    "        all_words = [[], []]\n",
    "        for words in self.data_classes['NEG']['words_without_stopwords']:\n",
    "            all_words[0].extend(words)\n",
    "        \n",
    "        for words in self.data_classes['POS']['words_without_stopwords']:\n",
    "            all_words[1].extend(words)\n",
    "            \n",
    "        self.data_classes['NEG']['words_1d'] = all_words[0]\n",
    "        self.data_classes['POS']['words_1d'] = all_words[1]\n",
    "        self.dictionary = Dictionary(all_words)\n",
    "        \n",
    "    def create_bag_of_words(self):\n",
    "        self.data_classes['NEG']['bow'] = self.dictionary.doc2bow(self.data_classes['NEG']['words_1d'])\n",
    "        self.data_classes['POS']['bow'] = self.dictionary.doc2bow(self.data_classes['POS']['words_1d'])\n",
    "        \n",
    "        #dictionary.doc2idx(['abysmal', 'abuse'])"
   ]
  },
  {
   "cell_type": "code",
   "execution_count": 210,
   "id": "ff1afe3c",
   "metadata": {},
   "outputs": [],
   "source": [
    "train = pd.read_csv('data/train.csv')\n",
    "train_model = Model(train)"
   ]
  },
  {
   "cell_type": "code",
   "execution_count": 211,
   "id": "f6965556",
   "metadata": {},
   "outputs": [],
   "source": [
    "train_model.sentences_to_words()\n",
    "train_model.remove_stopwords()\n",
    "train_model.create_dictionary()\n",
    "train_model.create_bag_of_words()"
   ]
  },
  {
   "cell_type": "code",
   "execution_count": 218,
   "id": "b93da6ce",
   "metadata": {},
   "outputs": [
    {
     "data": {
      "text/plain": [
       "[19, 18]"
      ]
     },
     "execution_count": 218,
     "metadata": {},
     "output_type": "execute_result"
    }
   ],
   "source": [
    "# train_model.data_classes['POS']['bow']\n",
    "train_model.dictionary.doc2idx(['abysmal', 'abuse'])"
   ]
  },
  {
   "cell_type": "code",
   "execution_count": 226,
   "id": "0baf200a",
   "metadata": {},
   "outputs": [],
   "source": [
    "class Model2:\n",
    "    # not necesarry but just as a 'fyi'\n",
    "    raw_data = pd.DataFrame() # constructor\n",
    "    data_classes = {\n",
    "        'POS': {\n",
    "            'sentences': [] # array of strings\n",
    "            , 'words': [] # array of arrays, each array contains each sentence splitted\n",
    "            , 'words_without_stopwords': [] # same as words but without stopwords\n",
    "            , 'words_1d': [] # 1d array of words\n",
    "            , 'lemma': []\n",
    "            , 'bow': None\n",
    "            , 'bigram': None\n",
    "        }\n",
    "        , 'NEG': {}\n",
    "    }\n",
    "    stopwords = STOPWORDS # default if not given\n",
    "    allowed_postags = ['NOUN', 'ADJ', 'VERB', 'ADV']\n",
    "    \n",
    "    def __init__(self, df, stopwords=STOPWORDS, min_count=5, threshold=10):\n",
    "        # pandas dataframe?\n",
    "        self.stopwords = stopwords\n",
    "        self.raw_data = df\n",
    "        self.ngram = {'min_count': min_count, 'threshold': threshold}\n",
    "        \n",
    "    def fit(self):\n",
    "        self.data_classes = {sentiment.value: {'sentences': self.raw_data[self.raw_data['sentiment'] == sentiment.value]['review'].values.tolist()} for sentiment in Sentiments}\n",
    "        for sentiment in self.data_classes.keys():\n",
    "            sentences = self.data_classes[sentiment]['sentences']\n",
    "            sentences_as_words = self.sentences2words(sentences)\n",
    "            words_without_stopwords = self.remove_stopwords(sentences_as_words)\n",
    "            lemmas = self.lemmatization(words_without_stopwords)\n",
    "            ngram = self.learn_ngrams(lemmas, min_count=self.ngram['min_count'], threshold=self.ngram['threshold'])   \n",
    "            self.data_clasess[sentiment] = {\n",
    "                'sentences': sentences\n",
    "                , 'sentences_as_words': sentences_as_words\n",
    "                , 'words_without_stopwords': words_without_stopwords\n",
    "                , 'lemmas': lemmas\n",
    "                , 'ngram': ngram\n",
    "            }\n",
    "            \n",
    "    def sentences2words(self, sentences):\n",
    "        words = []\n",
    "        for sentence in sentences:\n",
    "            words.append(simple_preprocess(sentence, deacc=True))\n",
    "        return words\n",
    "        \n",
    "    def remove_stopwords(self, list_of_list_of_words):\n",
    "        \"\"\"receives a list of list of words [['abc', 'abc', ...], ...] \"\"\"\n",
    "        words = []\n",
    "        for sentence_as_words in list_of_list_of_words:\n",
    "            words.append([word for word in sentence_as_words if word not in self.stopwords])\n",
    "        return words\n",
    "            \n",
    "    def lemmatization(self, list_of_list_of_words):\n",
    "        words = []\n",
    "        for sentence_as_words in list_of_list_of_words:\n",
    "            doc = nlp(' '.join(sentence_as_words))\n",
    "            words.append([token.lemma_ for token in doc if token.pos_ in self.allowed_postags])\n",
    "        return words\n",
    "            \n",
    "    def learn_ngrams(self, list_of_list_of_words, min_count=5, threshold=10):\n",
    "        bigram = Phrases(list_of_list_of_words, min_count=min_count, threshold=threshold)\n",
    "        bigram_mod = Phraser(bigram)\n",
    "        return bigram_mod\n",
    "    \n",
    "    def create_bigrams(self, bigram_model, list_of_list_of_words):\n",
    "        return [bigram_model[doc] for doc in list_of_list_of_words]\n",
    "            \n",
    "    def create_dictionary(self):\n",
    "        all_words = [[], []]\n",
    "        for words in self.data_classes['NEG']['words_without_stopwords']:\n",
    "            all_words[0].extend(words)\n",
    "        \n",
    "        for words in self.data_classes['POS']['words_without_stopwords']:\n",
    "            all_words[1].extend(words)\n",
    "            \n",
    "        self.data_classes['NEG']['words_1d'] = all_words[0]\n",
    "        self.data_classes['POS']['words_1d'] = all_words[1]\n",
    "        self.dictionary = Dictionary(all_words)\n",
    "        \n",
    "    def create_bag_of_words(self):\n",
    "        self.data_classes['NEG']['bow'] = self.dictionary.doc2bow(self.data_classes['NEG']['words_1d'])\n",
    "        self.data_classes['POS']['bow'] = self.dictionary.doc2bow(self.data_classes['POS']['words_1d'])\n",
    "        \n",
    "        #dictionary.doc2idx(['abysmal', 'abuse'])\n",
    "        "
   ]
  },
  {
   "cell_type": "code",
   "execution_count": 227,
   "id": "4a326c02",
   "metadata": {},
   "outputs": [],
   "source": [
    "train = pd.read_csv('data/train.csv')\n",
    "train_model = Model2(train)"
   ]
  },
  {
   "cell_type": "code",
   "execution_count": null,
   "id": "cdf11f7a",
   "metadata": {},
   "outputs": [
    {
     "name": "stderr",
     "output_type": "stream",
     "text": [
      "/data/home/kegarcia/Documents/maestria/cmiads-tmnlp-h3/venv/lib64/python3.6/site-packages/torch/autocast_mode.py:141: UserWarning: User provided device_type of 'cuda', but CUDA is not available. Disabling\n",
      "  warnings.warn('User provided device_type of \\'cuda\\', but CUDA is not available. Disabling')\n"
     ]
    }
   ],
   "source": [
    "train_model.fit()"
   ]
  }
 ],
 "metadata": {
  "kernelspec": {
   "display_name": "Python 3",
   "language": "python",
   "name": "python3"
  },
  "language_info": {
   "codemirror_mode": {
    "name": "ipython",
    "version": 3
   },
   "file_extension": ".py",
   "mimetype": "text/x-python",
   "name": "python",
   "nbconvert_exporter": "python",
   "pygments_lexer": "ipython3",
   "version": "3.6.8"
  }
 },
 "nbformat": 4,
 "nbformat_minor": 5
}
